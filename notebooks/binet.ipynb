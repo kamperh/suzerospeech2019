{
 "cells": [
  {
   "cell_type": "markdown",
   "metadata": {},
   "source": [
    "# STE Binary Networks"
   ]
  },
  {
   "cell_type": "code",
   "execution_count": 1,
   "metadata": {},
   "outputs": [],
   "source": [
    "# import torch base code\n",
    "%matplotlib inline\n",
    "%load_ext autoreload\n",
    "%autoreload 2\n",
    "\n",
    "import sys\n",
    "from os import path\n",
    "sys.path.append(path.join(\"..\", \"src\"))\n",
    "import torch_base\n",
    "import matplotlib.pyplot as plt\n",
    "import subprocess as sub"
   ]
  },
  {
   "cell_type": "markdown",
   "metadata": {},
   "source": [
    "**Helper Functions**"
   ]
  },
  {
   "cell_type": "code",
   "execution_count": 9,
   "metadata": {},
   "outputs": [],
   "source": [
    "\"\"\"\n",
    "Function : run_cmd\n",
    "    \n",
    "    runs a python script from within python and prints stdout to screen in real-time\n",
    "    \n",
    "    Args:\n",
    "        cmd (string) : command to run as subprocess\n",
    "        \n",
    "    Ref: https://stackoverflow.com/questions/17411966/\n",
    "\"\"\"\n",
    "\n",
    "def run_cmd(cmd):\n",
    "    \n",
    "    # create subprocess\n",
    "    proc = sub.Popen(cmd, stdout=sub.PIPE, universal_newlines=True)\n",
    "    \n",
    "    # read output line for line\n",
    "    while proc.poll() is None:\n",
    "        \n",
    "        opt = proc.stdout.readline()\n",
    "        print(opt)\n",
    "    \n",
    "    # print rest of output\n",
    "    print(proc.stdout.read()) \n",
    "    \n",
    "    return\n",
    "\n",
    "\n",
    "\"\"\"\n",
    "Function: mfccshow\n",
    "    \n",
    "    displays a tensor mfcc\n",
    "    \n",
    "        Args:\n",
    "            mfcc (torch.Tensor) : image tensor (T, Freq)\n",
    "            title (string)      : plot title\n",
    "\"\"\"\n",
    "\n",
    "\n",
    "def mfccshow(mfcc, title=''):\n",
    "\n",
    "    # place image on CPU\n",
    "    mfcc = mfcc.cpu()\n",
    "\n",
    "    # plot MFCC\n",
    "    plt.figure(figsize=(10, 5))\n",
    "    plt.title(title)\n",
    "    plt.imshow(mfcc.transpose(0, 1))\n",
    "    \n",
    "    print(\"Mfcc Size (T, Freq) : {}\".format(mfcc.size()))\n",
    "\n",
    "    return"
   ]
  },
  {
   "cell_type": "markdown",
   "metadata": {},
   "source": [
    "## Data Processing"
   ]
  },
  {
   "cell_type": "code",
   "execution_count": 33,
   "metadata": {},
   "outputs": [
    {
     "name": "stdout",
     "output_type": "stream",
     "text": [
      "Mfcc Size (T, Freq) : torch.Size([100, 13])\n"
     ]
    },
    {
     "data": {
      "image/png": "[encoded data removed]",
      "text/plain": [
       "<Figure size 720x360 with 1 Axes>"
      ]
     },
     "metadata": {},
     "output_type": "display_data"
    }
   ],
   "source": [
    "# imports\n",
    "import torchvision.transforms as tf\n",
    "from torch.utils.data import DataLoader\n",
    "from torch_base.process_data import MfccDataset, Numpy2Tensor, CropMfcc, mfcc_collate\n",
    "\n",
    "train_dl = DataLoader(\n",
    "    \n",
    "    dataset=MfccDataset(\n",
    "        '~/Music/ZeroSpeech2019/english/train_unsegmented_1.dd.npz',\n",
    "        transform=tf.Compose([\n",
    "            Numpy2Tensor(),\n",
    "            CropMfcc(t=100, freq=13)\n",
    "        ]),\n",
    "        ret_keys=True\n",
    "    ),\n",
    "    \n",
    "    batch_size=1,\n",
    "    shuffle=False\n",
    ")\n",
    "\n",
    "keys, mfcc = iter(train_dl).next()\n",
    "\n",
    "# display MFCC\n",
    "mfccshow(mfcc[0], title=keys[0])"
   ]
  },
  {
   "cell_type": "markdown",
   "metadata": {},
   "source": [
    "## MFCC Autoencoder (No Speaker Conditioning)"
   ]
  },
  {
   "cell_type": "markdown",
   "metadata": {},
   "source": [
    "**Train**"
   ]
  },
  {
   "cell_type": "code",
   "execution_count": null,
   "metadata": {},
   "outputs": [],
   "source": [
    "# run Training Script\n",
    "cmd = \" \".join([\n",
    "    \"python ~/Projects/suzerospeech2019/src/torch_base/train.py\",\n",
    "    \"--sys\",           \"MfccAuto\",\n",
    "    \"--epochs\",           \"50\",\n",
    "    \"--gamma\",            \"0.1\",\n",
    "    \"--learn_rate\",       \"0.001\",\n",
    "    \"--log\",              \"~/Music/MfccAuto/logs\",\n",
    "    \"--train\",            '~/Music/ZeroSpeech2019/english/train.dd.npz',\n",
    "    \"--valid\",            '~/Music/ZeroSpeech2019/english/test.dd.npz',\n",
    "    \"--save\",             \"~/Music/MfccAuto/saved_models\",\n",
    "    \"--batch_size\",       \"100\",\n",
    "    \"--bottleneck_depth\", \"7\",\n",
    "    \"--mfcc_width\",       \"100\",\n",
    "    \"--mfcc_height\",      \"13\",\n",
    "    \"--checkpoint\",\n",
    "    \"--verbose\"   \n",
    "])\n",
    "\n",
    "run_cmd(cmd)"
   ]
  },
  {
   "cell_type": "code",
   "execution_count": 35,
   "metadata": {},
   "outputs": [
    {
     "name": "stdout",
     "output_type": "stream",
     "text": [
      "Mfcc Size (T, Freq) : torch.Size([100, 13])\n"
     ]
    },
    {
     "data": {
      "image/png": "[encoded data removed]",
      "text/plain": [
       "<Figure size 720x360 with 1 Axes>"
      ]
     },
     "metadata": {},
     "output_type": "display_data"
    }
   ],
   "source": [
    "# imports\n",
    "import torchvision.transforms as tf\n",
    "from torch.utils.data import DataLoader\n",
    "from torch_base.process_data import MfccDataset, Numpy2Tensor, CropMfcc, mfcc_collate\n",
    "\n",
    "train_dl = DataLoader(\n",
    "    \n",
    "    dataset=MfccDataset(\n",
    "        '~/Music/MfccAuto/english/train/output_feats.npz',\n",
    "        transform=tf.Compose([\n",
    "            Numpy2Tensor(),\n",
    "            CropMfcc(t=100, freq=13)\n",
    "        ]),\n",
    "        ret_keys=True\n",
    "    ),\n",
    "    \n",
    "    batch_size=1,\n",
    "    shuffle=False\n",
    ")\n",
    "\n",
    "keys, mfcc = iter(train_dl).next()\n",
    "\n",
    "# display MFCC\n",
    "mfccshow(mfcc[0], title=keys[0])"
   ]
  }
 ],
 "metadata": {
  "kernelspec": {
   "display_name": "Python 3",
   "language": "python",
   "name": "python3"
  },
  "language_info": {
   "codemirror_mode": {
    "name": "ipython",
    "version": 3
   },
   "file_extension": ".py",
   "mimetype": "text/x-python",
   "name": "python",
   "nbconvert_exporter": "python",
   "pygments_lexer": "ipython3",
   "version": "3.6.5"
  }
 },
 "nbformat": 4,
 "nbformat_minor": 2
}
