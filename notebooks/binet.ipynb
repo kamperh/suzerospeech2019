{
 "cells": [
  {
   "cell_type": "markdown",
   "metadata": {},
   "source": [
    "# STE Binary Networks"
   ]
  },
  {
   "cell_type": "code",
   "execution_count": 1,
   "metadata": {},
   "outputs": [],
   "source": [
    "# import torch base code\n",
    "%matplotlib inline\n",
    "%load_ext autoreload\n",
    "%autoreload 2\n",
    "\n",
    "import sys\n",
    "from os import path\n",
    "sys.path.append(path.join(\"..\", \"src\"))\n",
    "import torch_base\n",
    "import matplotlib.pyplot as plt\n",
    "import subprocess as sub"
   ]
  },
  {
   "cell_type": "markdown",
   "metadata": {},
   "source": [
    "**Helper Functions**"
   ]
  },
  {
   "cell_type": "code",
   "execution_count": 2,
   "metadata": {},
   "outputs": [],
   "source": [
    "\"\"\"\n",
    "Function : run_cmd\n",
    "    \n",
    "    runs a python script from within python and prints stdout to screen in real-time\n",
    "    \n",
    "    Args:\n",
    "        cmd (string) : command to run as subprocess\n",
    "        \n",
    "    Ref: https://stackoverflow.com/questions/17411966/\n",
    "\"\"\"\n",
    "\n",
    "def run_cmd(cmd):\n",
    "    \n",
    "    # create subprocess\n",
    "    proc = sub.Popen(cmd, stdout=sub.PIPE, universal_newlines=True)\n",
    "    \n",
    "    # read output line for line\n",
    "    while proc.poll() is None:\n",
    "        \n",
    "        opt = proc.stdout.readline()\n",
    "        print(opt)\n",
    "    \n",
    "    # print rest of output\n",
    "    print(proc.stdout.read()) \n",
    "    \n",
    "    return\n",
    "\n",
    "\n",
    "\"\"\"\n",
    "Function: mfccshow\n",
    "    \n",
    "    displays a tensor mfcc\n",
    "    \n",
    "        Args:\n",
    "            mfcc (torch.Tensor) : image tensor (T, Freq)\n",
    "            title (string)      : plot title\n",
    "\"\"\"\n",
    "\n",
    "\n",
    "def mfccshow(mfcc, title=''):\n",
    "\n",
    "    # place image on CPU\n",
    "    mfcc = mfcc.cpu()\n",
    "\n",
    "    # plot MFCC\n",
    "    plt.figure(figsize=(10, 5))\n",
    "    plt.title(title)\n",
    "    plt.imshow(mfcc.transpose(0, 1))\n",
    "    \n",
    "    print(\"Mfcc Size (T, Freq) : {}\".format(mfcc.size()))\n",
    "\n",
    "    return"
   ]
  },
  {
   "cell_type": "markdown",
   "metadata": {},
   "source": [
    "## Data Processing"
   ]
  },
  {
   "cell_type": "markdown",
   "metadata": {},
   "source": [
    "**MFCC Input Data**"
   ]
  },
  {
   "cell_type": "code",
   "execution_count": 21,
   "metadata": {},
   "outputs": [
    {
     "name": "stdout",
     "output_type": "stream",
     "text": [
      "Mfcc Size (T, Freq) : torch.Size([8, 13])\n"
     ]
    },
    {
     "data": {
      "image/png": "[encoded data removed]",
      "text/plain": [
       "<Figure size 720x360 with 1 Axes>"
      ]
     },
     "metadata": {},
     "output_type": "display_data"
    }
   ],
   "source": [
    "# imports\n",
    "import torchvision.transforms as tf\n",
    "from torch.utils.data import DataLoader\n",
    "from torch_base.process_data import SpeechDataset, Numpy2Tensor, CropSpeech, speech_collate\n",
    "\n",
    "train_dl = DataLoader(\n",
    "    \n",
    "    dataset=SpeechDataset(\n",
    "        speech_npz='~/Music/ZeroSpeech2019/english/input/test_unsegmented_1_cut.dd.npz',\n",
    "        transform=tf.Compose([\n",
    "            Numpy2Tensor(),\n",
    "            CropSpeech(200, 13)\n",
    "        ])\n",
    "    ),\n",
    "    \n",
    "    batch_size=1,\n",
    "    shuffle=False\n",
    ")\n",
    "\n",
    "speech_dict = iter(train_dl).next()\n",
    "\n",
    "# display MFCC\n",
    "mfccshow(speech_dict[\"inpt_feat\"][0], title=speech_dict[\"utt_key\"][0])"
   ]
  },
  {
   "cell_type": "markdown",
   "metadata": {},
   "source": [
    "**Filterbank Target Data**"
   ]
  },
  {
   "cell_type": "code",
   "execution_count": 16,
   "metadata": {},
   "outputs": [
    {
     "name": "stdout",
     "output_type": "stream",
     "text": [
      "Mfcc Size (T, Freq) : torch.Size([8, 45])\n"
     ]
    },
    {
     "data": {
      "image/png": "[encoded data removed]",
      "text/plain": [
       "<Figure size 720x360 with 1 Axes>"
      ]
     },
     "metadata": {},
     "output_type": "display_data"
    }
   ],
   "source": [
    "train_dl = DataLoader(\n",
    "    \n",
    "    dataset=SpeechDataset(\n",
    "        speech_npz='~/Music/ZeroSpeech2019/english/target/unsegmented_test_fbank_fftnet_cut.npz',\n",
    "        transform=tf.Compose([\n",
    "            Numpy2Tensor(),\n",
    "            CropSpeech(100, 45)\n",
    "        ])\n",
    "    ),\n",
    "    \n",
    "    batch_size=1,\n",
    "    shuffle=False\n",
    ")\n",
    "\n",
    "speech_dict = iter(train_dl).next()\n",
    "\n",
    "# display MFCC\n",
    "mfccshow(speech_dict[\"inpt_feat\"][0], title=speech_dict[\"utt_key\"][0])"
   ]
  },
  {
   "cell_type": "markdown",
   "metadata": {},
   "source": [
    "## 1 Layer Linear Rnn Autoencoder"
   ]
  },
  {
   "cell_type": "markdown",
   "metadata": {},
   "source": [
    "**Train**"
   ]
  },
  {
   "cell_type": "code",
   "execution_count": null,
   "metadata": {},
   "outputs": [],
   "source": [
    "# run Training Script\n",
    "cmd = \" \".join([\n",
    "    \"python ~/Projects/suzerospeech2019/src/torch_base/train.py\",\n",
    "    \"--sys\",           \"MfccAuto\",\n",
    "    \"--epochs\",           \"50\",\n",
    "    \"--gamma\",            \"0.1\",\n",
    "    \"--learn_rate\",       \"0.001\",\n",
    "    \"--log\",              \"~/Music/MfccAuto/logs\",\n",
    "    \"--train\",            '~/Music/ZeroSpeech2019/english/train.dd.npz',\n",
    "    \"--valid\",            '~/Music/ZeroSpeech2019/english/test.dd.npz',\n",
    "    \"--save\",             \"~/Music/MfccAuto/saved_models\",\n",
    "    \"--batch_size\",       \"100\",\n",
    "    \"--bottleneck_depth\", \"7\",\n",
    "    \"--mfcc_width\",       \"100\",\n",
    "    \"--mfcc_height\",      \"13\",\n",
    "    \"--checkpoint\",\n",
    "    \"--verbose\"   \n",
    "])\n",
    "\n",
    "run_cmd(cmd)"
   ]
  },
  {
   "cell_type": "code",
   "execution_count": 17,
   "metadata": {},
   "outputs": [
    {
     "name": "stdout",
     "output_type": "stream",
     "text": [
      "Mfcc Size (T, Freq) : torch.Size([7, 45])\n"
     ]
    },
    {
     "data": {
      "image/png": "[encoded data removed]",
      "text/plain": [
       "<Figure size 720x360 with 1 Axes>"
      ]
     },
     "metadata": {},
     "output_type": "display_data"
    }
   ],
   "source": [
    "train_dl = DataLoader(\n",
    "    \n",
    "    dataset=SpeechDataset(\n",
    "        speech_npz='~/Music/SpeechAuto/encodings/test/output_feats.npz',\n",
    "        transform=tf.Compose([\n",
    "            Numpy2Tensor(),\n",
    "            CropSpeech(100, 45)\n",
    "        ])\n",
    "    ),\n",
    "    \n",
    "    batch_size=1,\n",
    "    shuffle=False\n",
    ")\n",
    "\n",
    "speech_dict = iter(train_dl).next()\n",
    "\n",
    "# display MFCC\n",
    "mfccshow(speech_dict[\"inpt_feat\"][0], title=speech_dict[\"utt_key\"][0])"
   ]
  },
  {
   "cell_type": "markdown",
   "metadata": {},
   "source": [
    "ABX : 34.902 \n",
    "Bitrate : 398.614"
   ]
  },
  {
   "cell_type": "markdown",
   "metadata": {},
   "source": [
    "## 1 Layer Conv Rnn Autoencoder (Transpose Conv)"
   ]
  },
  {
   "cell_type": "code",
   "execution_count": 19,
   "metadata": {},
   "outputs": [
    {
     "name": "stdout",
     "output_type": "stream",
     "text": [
      "Mfcc Size (T, Freq) : torch.Size([7, 45])\n"
     ]
    },
    {
     "data": {
      "image/png": "[encoded data removed]",
      "text/plain": [
       "<Figure size 720x360 with 1 Axes>"
      ]
     },
     "metadata": {},
     "output_type": "display_data"
    }
   ],
   "source": [
    "train_dl = DataLoader(\n",
    "    \n",
    "    dataset=SpeechDataset(\n",
    "        speech_npz='~/Music/ConvSpeechAuto/encodings/test/output_feats.npz',\n",
    "        transform=tf.Compose([\n",
    "            Numpy2Tensor(),\n",
    "            CropSpeech(100, 45)\n",
    "        ])\n",
    "    ),\n",
    "    \n",
    "    batch_size=1,\n",
    "    shuffle=False\n",
    ")\n",
    "\n",
    "speech_dict = iter(train_dl).next()\n",
    "\n",
    "# display MFCC\n",
    "mfccshow(speech_dict[\"inpt_feat\"][0], title=speech_dict[\"utt_key\"][0])"
   ]
  },
  {
   "cell_type": "markdown",
   "metadata": {},
   "source": [
    "ABX: 27.345\n",
    "Bitrate : 384.844"
   ]
  },
  {
   "cell_type": "markdown",
   "metadata": {},
   "source": [
    "## 1 Layer Conv Rnn Autoencoder (Pixel Shuffle)"
   ]
  },
  {
   "cell_type": "code",
   "execution_count": null,
   "metadata": {},
   "outputs": [],
   "source": []
  }
 ],
 "metadata": {
  "kernelspec": {
   "display_name": "Python 3",
   "language": "python",
   "name": "python3"
  },
  "language_info": {
   "codemirror_mode": {
    "name": "ipython",
    "version": 3
   },
   "file_extension": ".py",
   "mimetype": "text/x-python",
   "name": "python",
   "nbconvert_exporter": "python",
   "pygments_lexer": "ipython3",
   "version": "3.6.5"
  }
 },
 "nbformat": 4,
 "nbformat_minor": 2
}
