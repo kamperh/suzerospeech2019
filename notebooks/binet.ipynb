{
 "cells": [
  {
   "cell_type": "markdown",
   "metadata": {},
   "source": [
    "# STE Binary Network"
   ]
  },
  {
   "cell_type": "code",
   "execution_count": 1,
   "metadata": {},
   "outputs": [],
   "source": [
    "# import torch base code\n",
    "%matplotlib inline\n",
    "%load_ext autoreload\n",
    "%autoreload 2\n",
    "\n",
    "import sys\n",
    "from os import path\n",
    "sys.path.append(path.join(\"..\", \"src\"))\n",
    "import c_torch\n",
    "import matplotlib.pyplot as plt"
   ]
  },
  {
   "cell_type": "markdown",
   "metadata": {},
   "source": [
    "**Helper Functions**"
   ]
  },
  {
   "cell_type": "code",
   "execution_count": 2,
   "metadata": {},
   "outputs": [],
   "source": [
    "\"\"\"\n",
    "Function : run_cmd\n",
    "    \n",
    "    runs a python script from within python and prints stdout to screen in real-time\n",
    "    \n",
    "    Args:\n",
    "        cmd (string) : command to run as subprocess\n",
    "        \n",
    "    Ref: https://stackoverflow.com/questions/17411966/\n",
    "\"\"\"\n",
    "\n",
    "def run_cmd(cmd):\n",
    "    \n",
    "    # create subprocess\n",
    "    proc = sub.Popen(cmd, stdout=sub.PIPE, universal_newlines=True)\n",
    "    \n",
    "    # read output line for line\n",
    "    while proc.poll() is None:\n",
    "        \n",
    "        opt = proc.stdout.readline()\n",
    "        print(opt)\n",
    "    \n",
    "    # print rest of output\n",
    "    print(proc.stdout.read()) \n",
    "    \n",
    "    return\n",
    "\n",
    "\n",
    "\"\"\"\n",
    "Function: mfccshow\n",
    "    \n",
    "    displays a tensor mfcc\n",
    "    \n",
    "        Args:\n",
    "            mfcc (torch.Tensor) : image tensor (T, Freq)\n",
    "            title (string)      : plot title\n",
    "\"\"\"\n",
    "\n",
    "\n",
    "def mfccshow(mfcc, title=''):\n",
    "\n",
    "    # place image on CPU\n",
    "    mfcc = mfcc.cpu()\n",
    "\n",
    "    # plot MFCC\n",
    "    plt.figure(figsize=(10, 5))\n",
    "    plt.title(title)\n",
    "    plt.imshow(mfcc.transpose(0, 1))\n",
    "    \n",
    "    print(\"Mfcc Size (T, Freq) : {}\".format(mfcc.size()))\n",
    "\n",
    "    return"
   ]
  },
  {
   "cell_type": "markdown",
   "metadata": {},
   "source": [
    "## Data Processing"
   ]
  },
  {
   "cell_type": "code",
   "execution_count": 21,
   "metadata": {},
   "outputs": [
    {
     "name": "stdout",
     "output_type": "stream",
     "text": [
      "Mfcc Size (T, Freq) : torch.Size([30, 39])\n"
     ]
    },
    {
     "data": {
      "image/png": "[encoded data removed]",
      "text/plain": [
       "<Figure size 720x360 with 1 Axes>"
      ]
     },
     "metadata": {},
     "output_type": "display_data"
    }
   ],
   "source": [
    "# imports\n",
    "import torchvision.transforms as tf\n",
    "from torch.utils.data import DataLoader\n",
    "from c_torch.process_data import MfccDataset, Numpy2Tensor, CropMfcc, mfcc_collate\n",
    "\n",
    "train_dl = DataLoader(\n",
    "    \n",
    "    dataset=MfccDataset(\n",
    "        '~/Music/test/test.dd.npz',\n",
    "        transform=tf.Compose([\n",
    "            Numpy2Tensor(),\n",
    "            CropMfcc(t=30, freq=39)\n",
    "        ]),\n",
    "        ret_keys=True\n",
    "    ),\n",
    "    \n",
    "    batch_size=5,\n",
    "    collate_fn=mfcc_collate,\n",
    "    shuffle=True\n",
    ")\n",
    "\n",
    "keys, mfcc, seq_len = iter(train_dl).next()\n",
    "\n",
    "# display MFCC\n",
    "mfccshow(mfcc[4], title=keys[4])"
   ]
  },
  {
   "cell_type": "markdown",
   "metadata": {},
   "source": [
    "## MFCC Auto Network"
   ]
  },
  {
   "cell_type": "code",
   "execution_count": 22,
   "metadata": {},
   "outputs": [
    {
     "name": "stdout",
     "output_type": "stream",
     "text": [
      "MfccAuto\n",
      "MfccAuto(\n",
      "  (encoder): StackedRnnBase(\n",
      "    (multilayer_rnn): ModuleList(\n",
      "      (0): RNNBase(39, 20)\n",
      "      (1): RNNBase(20, 60)\n",
      "      (2): RNNBase(60, 120)\n",
      "      (3): RNNBase(120, 1)\n",
      "    )\n",
      "  )\n",
      "  (binarizer): Binarizer()\n",
      "  (decoder): StackedRnnBase(\n",
      "    (multilayer_rnn): ModuleList(\n",
      "      (0): RNNBase(1, 120)\n",
      "      (1): RNNBase(120, 60)\n",
      "      (2): RNNBase(60, 20)\n",
      "      (3): RNNBase(20, 39)\n",
      "    )\n",
      "  )\n",
      ")\n"
     ]
    }
   ],
   "source": [
    "from c_torch.networks import MfccAuto\n",
    "\n",
    "mfcc_auto = MfccAuto(\n",
    "    input_size=39, \n",
    "    bnd=1\n",
    ")\n",
    "\n",
    "# display Network\n",
    "print(mfcc_auto.name)\n",
    "print(mfcc_auto)"
   ]
  },
  {
   "cell_type": "markdown",
   "metadata": {},
   "source": [
    "### Train"
   ]
  },
  {
   "cell_type": "code",
   "execution_count": null,
   "metadata": {},
   "outputs": [],
   "source": [
    "cmd = \" \".join([\n",
    "    \"python train.py\",\n",
    "    \"--epochs\", \"20\",\n",
    "    \"--gamma\",  \"0.1\",\n",
    "    \"--learn_rate\", \"0.001\"\n",
    "    \"--log\",        \"~/Projects/suzerospeech2019/src/c_torch/networks/logs\",\n",
    "    \"--train\", \n",
    "    \"--valid\",\n",
    "    \"--save\",  \"~/Projects/suzerospeech2019/src/c_torch/networks/logs\",\n",
    "    \"--batch_size\", \"100\"\n",
    "    \"--bottleneck_depth\", \"4\"\n",
    "    \"--mfcc_width\", \"30\"\n",
    "    \"--mfcc_height\", \"39\"\n",
    "    \"--verbose\"   \n",
    "])\n",
    "\n"
   ]
  }
 ],
 "metadata": {
  "kernelspec": {
   "display_name": "Python 3",
   "language": "python",
   "name": "python3"
  },
  "language_info": {
   "codemirror_mode": {
    "name": "ipython",
    "version": 3
   },
   "file_extension": ".py",
   "mimetype": "text/x-python",
   "name": "python",
   "nbconvert_exporter": "python",
   "pygments_lexer": "ipython3",
   "version": "3.6.5"
  }
 },
 "nbformat": 4,
 "nbformat_minor": 2
}
